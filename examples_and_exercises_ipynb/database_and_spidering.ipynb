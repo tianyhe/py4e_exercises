{
 "cells": [
  {
   "cell_type": "markdown",
   "metadata": {},
   "source": [
    "#### Building email database"
   ]
  },
  {
   "cell_type": "code",
   "execution_count": null,
   "metadata": {},
   "outputs": [],
   "source": [
    "import sqlite3\n",
    "\n",
    "conn = sqlite3.connect('emaildb.sqlite')\n",
    "cur = conn.cursor()\n",
    "\n",
    "cur.execute('DROP TABLE IF EXISTS Counts')\n",
    "\n",
    "cur.execute('''\n",
    "CREATE TABLE Counts (email TEXT, count INTEGER)''')\n",
    "\n",
    "fname = input('Enter file name: ')\n",
    "if (len(fname) < 1): fname = 'mbox-short.txt'\n",
    "fh = open(fname)\n",
    "for line in fh:\n",
    "    if not line.startswith('From: '): continue\n",
    "    pieces = line.split()\n",
    "    email = pieces[1]\n",
    "    cur.execute('SELECT count FROM Counts WHERE email = ? ', (email,))\n",
    "    row = cur.fetchone()\n",
    "    if row is None:\n",
    "        cur.execute('''INSERT INTO Counts (email, count)\n",
    "                VALUES (?, 1)''', (email,))\n",
    "    else:\n",
    "        cur.execute('UPDATE Counts SET count = count + 1 WHERE email = ?',\n",
    "                    (email,))\n",
    "    conn.commit()\n",
    "\n",
    "# https://www.sqlite.org/lang_select.html\n",
    "sqlstr = 'SELECT email, count FROM Counts ORDER BY count DESC LIMIT 10'\n",
    "\n",
    "for row in cur.execute(sqlstr):\n",
    "    print(str(row[0]), row[1])\n",
    "\n",
    "cur.close()"
   ]
  },
  {
   "cell_type": "markdown",
   "metadata": {},
   "source": [
    "#### Constructing class"
   ]
  },
  {
   "cell_type": "code",
   "execution_count": null,
   "metadata": {},
   "outputs": [],
   "source": [
    "class PartyAnimal:\n",
    "   x = 0\n",
    "\n",
    "   def __init__(self): # Constructor\n",
    "     print('I am constructed')\n",
    "\n",
    "   def party(self) : # Method\n",
    "     self.x = self.x + 1\n",
    "     print('So far',self.x)\n",
    "\n",
    "   def __del__(self): # Deconstructor\n",
    "     print('I am destructed', self.x)"
   ]
  },
  {
   "cell_type": "code",
   "execution_count": null,
   "metadata": {},
   "outputs": [],
   "source": [
    "an = PartyAnimal()\n",
    "print (\"Type\", type(an))\n",
    "print (\"Dir \", dir(an))\n",
    "print (\"Type\", type(an.x))\n",
    "print (\"Type\", type(an.party))\n",
    "\n",
    "an.party()\n",
    "an.party()\n",
    "an = 42\n",
    "print('an contains',an)\n",
    "\n",
    "s = PartyAnimal('Sally')\n",
    "j = PartyAnimal('Jim')\n",
    "\n",
    "s.party()\n",
    "j.party()\n",
    "s.party()"
   ]
  },
  {
   "cell_type": "markdown",
   "metadata": {},
   "source": [
    "#### class inheritance"
   ]
  },
  {
   "cell_type": "code",
   "execution_count": null,
   "metadata": {},
   "outputs": [],
   "source": [
    "from party import PartyAnimal\n",
    "\n",
    "class CricketFan(PartyAnimal):\n",
    "   points = 0\n",
    "   def six(self):\n",
    "      self.points = self.points + 6\n",
    "      self.party()\n",
    "      print(self.name,\"points\",self.points)"
   ]
  },
  {
   "cell_type": "code",
   "execution_count": null,
   "metadata": {},
   "outputs": [],
   "source": [
    "s = PartyAnimal(\"Sally\")\n",
    "s.party()\n",
    "j = CricketFan(\"Jim\")\n",
    "j.party()\n",
    "j.six()\n",
    "print(dir(j))"
   ]
  },
  {
   "cell_type": "markdown",
   "metadata": {},
   "source": [
    "### Spidering Twitter"
   ]
  },
  {
   "cell_type": "code",
   "execution_count": null,
   "metadata": {},
   "outputs": [],
   "source": [
    "from urllib.request import urlopen\n",
    "import urllib.error\n",
    "import twurl\n",
    "import json\n",
    "import sqlite3\n",
    "import ssl\n",
    "\n",
    "TWITTER_URL = 'https://api.twitter.com/1.1/friends/list.json'\n",
    "\n",
    "conn = sqlite3.connect('spider.sqlite')\n",
    "cur = conn.cursor()\n",
    "\n",
    "cur.execute('''\n",
    "            CREATE TABLE IF NOT EXISTS Twitter\n",
    "            (name TEXT, retrieved INTEGER, friends INTEGER)''')\n",
    "\n",
    "# Ignore SSL certificate errors\n",
    "ctx = ssl.create_default_context()\n",
    "ctx.check_hostname = False\n",
    "ctx.verify_mode = ssl.CERT_NONE\n",
    "\n",
    "while True:\n",
    "    acct = input('Enter a Twitter account, or quit: ')\n",
    "    if (acct == 'quit'): break\n",
    "    if (len(acct) < 1):\n",
    "        cur.execute('SELECT name FROM Twitter WHERE retrieved = 0 LIMIT 1')\n",
    "        try:\n",
    "            acct = cur.fetchone()[0]\n",
    "        except:\n",
    "            print('No unretrieved Twitter accounts found')\n",
    "            continue\n",
    "\n",
    "    url = twurl.augment(TWITTER_URL, {'screen_name': acct, 'count': '5'})\n",
    "    print('Retrieving', url)\n",
    "    connection = urlopen(url, context=ctx)\n",
    "    data = connection.read().decode()\n",
    "    headers = dict(connection.getheaders())\n",
    "\n",
    "    print('Remaining', headers['x-rate-limit-remaining'])\n",
    "    js = json.loads(data)\n",
    "    # Debugging\n",
    "    # print json.dumps(js, indent=4)\n",
    "\n",
    "    cur.execute('UPDATE Twitter SET retrieved=1 WHERE name = ?', (acct, ))\n",
    "\n",
    "    countnew = 0\n",
    "    countold = 0\n",
    "    for u in js['users']:\n",
    "        friend = u['screen_name']\n",
    "        print(friend)\n",
    "        cur.execute('SELECT friends FROM Twitter WHERE name = ? LIMIT 1',\n",
    "                    (friend, ))\n",
    "        try:\n",
    "            count = cur.fetchone()[0]\n",
    "            cur.execute('UPDATE Twitter SET friends = ? WHERE name = ?',\n",
    "                        (count+1, friend))\n",
    "            countold = countold + 1\n",
    "        except:\n",
    "            cur.execute('''INSERT INTO Twitter (name, retrieved, friends)\n",
    "                        VALUES (?, 0, 1)''', (friend, ))\n",
    "            countnew = countnew + 1\n",
    "    print('New accounts=', countnew, ' revisited=', countold)\n",
    "    conn.commit()\n",
    "\n",
    "cur.close()"
   ]
  }
 ],
 "metadata": {
  "language_info": {
   "codemirror_mode": {
    "name": "ipython",
    "version": 3
   },
   "file_extension": ".py",
   "mimetype": "text/x-python",
   "name": "python",
   "nbconvert_exporter": "python",
   "pygments_lexer": "ipython3",
   "version": 3
  },
  "orig_nbformat": 2
 },
 "nbformat": 4,
 "nbformat_minor": 2
}