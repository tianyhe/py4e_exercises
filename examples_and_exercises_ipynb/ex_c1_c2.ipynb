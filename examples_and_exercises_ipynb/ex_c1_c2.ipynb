{
 "cells": [
  {
   "cell_type": "markdown",
   "metadata": {},
   "source": [
    "### Exercise 1.1"
   ]
  },
  {
   "cell_type": "code",
   "execution_count": null,
   "metadata": {},
   "outputs": [],
   "source": [
    "print (\"The first assignment\")"
   ]
  },
  {
   "cell_type": "markdown",
   "metadata": {},
   "source": [
    "### Exercise 2.3 \n",
    "Compute the payroll by multiply hours and rate"
   ]
  },
  {
   "cell_type": "code",
   "execution_count": null,
   "metadata": {},
   "outputs": [],
   "source": [
    "hrs = input(\"Enter Hours:\")\n",
    "rate = input(\"Enter Rate:\")\n",
    "pay = float(hrs) * float(rate)\n",
    "print(\"Pay:\",pay)"
   ]
  },
  {
   "cell_type": "markdown",
   "metadata": {},
   "source": [
    "### Exercise 3.1\n",
    "A program to prompt the user for hours and rate per hour using input to compute gross pay"
   ]
  },
  {
   "cell_type": "code",
   "execution_count": null,
   "metadata": {},
   "outputs": [],
   "source": [
    "hrs = input(\"Enter Hours:\")\n",
    "rate = input(\"Enter Rate:\")\n",
    "h = float(hrs)\n",
    "r = float(rate)\n",
    "pay = -1\n",
    "if h <= 40:\n",
    "    pay = h * r\n",
    "    print(\"Pay:\",pay)\n",
    "else:\n",
    "    # pay = r * 40 + (h - 40) * 1.5 * r\n",
    "    # Method 1\n",
    "    reg = 40 * r\n",
    "    otp = (h - 40) * r * 1.5\n",
    "    pay = reg + otp\n",
    "    # Method 2\n",
    "    print(\"Pay:\",pay)\n",
    "#Calculate the gross pay depending on if hours were above 40 or not"
   ]
  },
  {
   "cell_type": "markdown",
   "metadata": {},
   "source": [
    "### Exercise 3.2\n",
    "A program to prompt the user for hours and rate per hour using input to compute gross pay, with try/except"
   ]
  },
  {
   "cell_type": "code",
   "execution_count": null,
   "metadata": {},
   "outputs": [],
   "source": [
    "hrs = input(\"Enter Hours:\")\n",
    "rate = input(\"Enter Rate:\")\n",
    "try:\n",
    "    h = float(hrs)\n",
    "    r = float(rate)\n",
    "except:\n",
    "    print(\"Error, please enter numeric input\")\n",
    "    quit()\n",
    "#Validate the input - if true, then covert the input into floating-point value\n",
    "\n",
    "pay = -1\n",
    "if h <= 40:\n",
    "    pay = h * r\n",
    "    print(\"Pay:\",pay)\n",
    "else:\n",
    "    # pay = r * 40 + (h - 40) * 1.5 * r\n",
    "    # Method 1\n",
    "    reg = 40 * r\n",
    "    otp = (h - 40) * r * 1.5\n",
    "    pay = reg + otp\n",
    "    # Method 2\n",
    "    print(\"Pay:\",pay)\n",
    "#Calculate the gross pay depending on if hours were above 40 or not"
   ]
  },
  {
   "cell_type": "markdown",
   "metadata": {},
   "source": [
    "### Excercise 3.4\n",
    "Write a program to prompt for a score between 0.0 and 1.0"
   ]
  },
  {
   "cell_type": "code",
   "execution_count": null,
   "metadata": {},
   "outputs": [],
   "source": [
    "score = input(\"Enter Score: \")\n",
    "try:\n",
    "    fs = float(score)\n",
    "    if fs > 1:\n",
    "        quit()\n",
    "    if fs < 0:\n",
    "        quit() \n",
    "except:\n",
    "    print(\"Error, please enter a numeric value between 0.0 and 1.0!\")\n",
    "    quit()\n",
    "#Validate both the type of the input and the range of the input\n",
    "\n",
    "if fs >= 0.9:\n",
    "    print(\"A\")\n",
    "elif fs >= 0.8:\n",
    "        print(\"B\")\n",
    "elif fs >= 0.7:\n",
    "        print(\"C\")\n",
    "elif fs >= 0.6:\n",
    "        print(\"D\")\n",
    "elif fs < 0.6:\n",
    "    print(\"F\")   \n",
    "#Compute the score based on the validated input"
   ]
  },
  {
   "cell_type": "markdown",
   "metadata": {},
   "source": [
    "### Excercise 4.6\n",
    "Write a program to prompt the user for hours and rate per hour using input to compute gross pay - with a computepay() function"
   ]
  },
  {
   "cell_type": "code",
   "execution_count": null,
   "metadata": {},
   "outputs": [],
   "source": [
    "def computepay(h,r):\n",
    "    h = float(hrs)\n",
    "    r = float (rate)\n",
    "    if h <= 40:\n",
    "        p = h * r\n",
    "        return p\n",
    "    else:\n",
    "        reg = 40 * r\n",
    "        otp = (h-40) * r * 1.5\n",
    "        p = reg + otp\n",
    "        return p\n",
    "#Defined a function which compute the gross pay by given hours & rate - computepay()\n",
    "\n",
    "hrs = input(\"Enter Hours:\")\n",
    "rate = input(\"Enter Rate:\")\n",
    "try:\n",
    "    pay = computepay(hrs,rate)\n",
    "    print(\"Pay:\",pay)\n",
    "except:\n",
    "    print(\"Error, please enter numeric input\")\n",
    "#Read and validate the input from user, and call the coomputepay() function"
   ]
  },
  {
   "cell_type": "markdown",
   "metadata": {},
   "source": [
    "### Excercise 5.1\n",
    "Compute the total, counts, and average of the user's input"
   ]
  },
  {
   "cell_type": "code",
   "execution_count": null,
   "metadata": {},
   "outputs": [],
   "source": [
    "num = 0\n",
    "tot = 0.0\n",
    "while True:\n",
    "    sval = input(\"Enter a number: \")\n",
    "    if sval == \"done\":\n",
    "        break\n",
    "    try:\n",
    "        fval = float(sval)\n",
    "    except:\n",
    "        print(\"Invalid input\")\n",
    "        continue\n",
    "    #print(fval)\n",
    "    num = num + 1\n",
    "    tot = tot + fval\n",
    "\n",
    "print(\"ALL DONE\")    \n",
    "print(\"Total:\",tot,\"Counts:\",num,\"Average:\",tot/num)"
   ]
  },
  {
   "cell_type": "markdown",
   "metadata": {},
   "source": [
    "### Excercise 5.2.1\n",
    "Find the largest and smallest number of user's input"
   ]
  },
  {
   "cell_type": "code",
   "execution_count": null,
   "metadata": {},
   "outputs": [],
   "source": [
    "largest = None\n",
    "smallest = None\n",
    "while True:\n",
    "    sval = input(\"Enter a number: \")\n",
    "    if sval == \"done\":\n",
    "        break\n",
    "    try:\n",
    "        fval = int(sval)\n",
    "    except:\n",
    "        print(\"Invalid input\")\n",
    "        continue\n",
    "    #Validate the input and covert it to floating-point value\n",
    "    if largest is None or fval > largest:\n",
    "        largest = fval\n",
    "    elif smallest is None or fval < smallest:\n",
    "        smallest = fval\n",
    "    #Find the largest and smallest value of user's input\n",
    "print(\"Maximum: \",largest)\n",
    "print(\"Minimum: \",smallest)"
   ]
  },
  {
   "cell_type": "markdown",
   "metadata": {},
   "source": [
    "### Excercise 5.2.2\n",
    "Find the largest and smallest number of user's input"
   ]
  },
  {
   "cell_type": "code",
   "execution_count": null,
   "metadata": {},
   "outputs": [],
   "source": [
    "largest = None\n",
    "smallest = None\n",
    "while True:\n",
    "    sval = input(\"Enter a number: \")\n",
    "    if sval == \"done\":\n",
    "        break\n",
    "    try:\n",
    "        fval = int(sval)\n",
    "    except:\n",
    "        print(\"Invalid input\")\n",
    "        continue\n",
    "    #Validate the input and covert it to floating-point value\n",
    "    if largest is None:\n",
    "        largest = fval\n",
    "    if fval > largest:\n",
    "        largest = fval\n",
    "    if smallest is None:\n",
    "        smallest = fval\n",
    "    if fval < smallest:\n",
    "        smallest = fval\n",
    "    #Find the largest and smallest value of user's input\n",
    "print(\"Maximum: \",largest)\n",
    "print(\"Minimum: \",smallest)"
   ]
  },
  {
   "cell_type": "markdown",
   "metadata": {},
   "source": [
    "### Excercise 6.2\n",
    "Write code using find() and string slicing to extract the number at the end of the line below and Convert the extracted value to a floating point number and print it out."
   ]
  },
  {
   "cell_type": "code",
   "execution_count": null,
   "metadata": {},
   "outputs": [],
   "source": [
    "text = \"X-DSPAM-Confidence:    0.8475\"\n",
    "#print(text)\n",
    "pos = text.find(\":\")\n",
    "#print(pos)\n",
    "snum = float(text[pos+1:].strip())\n",
    "print(snum)"
   ]
  },
  {
   "cell_type": "markdown",
   "metadata": {},
   "source": [
    "### Excercise 7.1\n",
    "Write a program that prompts for a file name, then opens that file and reads through the file, and print the contents of the file in upper case"
   ]
  },
  {
   "cell_type": "code",
   "execution_count": null,
   "metadata": {},
   "outputs": [],
   "source": [
    "fname = input(\"Enter file name: \")\n",
    "try:\n",
    "    fh = open(fname)\n",
    "except:\n",
    "    print(\"The following file does not exists:\",fname)\n",
    "    quit()\n",
    "#Validate if the file exist or not under the folder\n",
    "for line in fh:\n",
    "    #line = line.upper()\n",
    "    #line = line.rstrip()\n",
    "    #print(line)\n",
    "    #or\n",
    "    line = line.rstrip()\n",
    "    print(line.upper())"
   ]
  },
  {
   "cell_type": "markdown",
   "metadata": {},
   "source": [
    "### Excercise 7.2\n",
    "* Count these lines and extract the floating point values from each of the lines and compute the average of those values and produce an output as shown below\n",
    "* Do not use the sum() function or a variable named sum in your solution\n",
    "* Use the file name mbox-short.txt as the file name"
   ]
  },
  {
   "cell_type": "code",
   "execution_count": null,
   "metadata": {},
   "outputs": [],
   "source": [
    "fname = input(\"Enter file name: \")\n",
    "try:\n",
    "    fh = open(fname)\n",
    "except:\n",
    "    print(\"The following file does not exists:\",fname)\n",
    "    quit()\n",
    "#Validate if the file exist or not under the folder\n",
    "total = 0\n",
    "count = 0\n",
    "for line in fh:\n",
    "    if line.startswith(\"X-DSPAM-Confidence:\"):\n",
    "        pos = line.find(\":\")\n",
    "        total = total + float(line[pos+1:])\n",
    "        count = count + 1\n",
    "        #print(total)\n",
    "        #print(count) \n",
    "    if not line.startswith(\"X-DSPAM-Confidence:\"):\n",
    "        continue\n",
    "    #print(line)\n",
    "print(\"Average spam confidence:\",total/count)\n",
    "#print(\"Done\")"
   ]
  },
  {
   "cell_type": "markdown",
   "metadata": {},
   "source": [
    "### Exercise 8.2\n",
    "Method 1 - The Double Split Pattern"
   ]
  },
  {
   "cell_type": "code",
   "execution_count": null,
   "metadata": {},
   "outputs": [],
   "source": [
    "while True:\n",
    "    fname = input(\"Enter file name: \")\n",
    "    try:\n",
    "        fhand = open(fname)\n",
    "        break\n",
    "    except:\n",
    "        print(\"The following file does not exists:\",fname)\n",
    "        continue\n",
    "\n",
    "for line in fhand:\n",
    "    line = line.rstrip()\n",
    "    if not line.startswith('From '):\n",
    "        continue\n",
    "    words = line.split()\n",
    "    email = words[1]\n",
    "    pieces = email.split('@')\n",
    "    host = pieces[1]\n",
    "    print('Host name: ',host)"
   ]
  },
  {
   "cell_type": "markdown",
   "metadata": {},
   "source": [
    "### Exercise 8.2\n",
    "Method 2 - The Double Split Pattern with guardian"
   ]
  },
  {
   "cell_type": "code",
   "execution_count": null,
   "metadata": {},
   "outputs": [],
   "source": [
    "while True:\n",
    "    fname = input(\"Enter file name: \")\n",
    "    try:\n",
    "        fhand = open(fname)\n",
    "        break\n",
    "    except:\n",
    "        print(\"The following file does not exists:\",fname)\n",
    "        continue\n",
    "\n",
    "for line in fhand:\n",
    "    line = line.rstrip()\n",
    "# Guardian - Method 1\n",
    "#    if line == '' :\n",
    "#        continue\n",
    "    words = line.split()\n",
    "# Guardian - Method 2\n",
    "#    if len(words) < 1 :\n",
    "#        continue\n",
    "# Guardian in a compound statement\n",
    "    if len(words) < 3 or words[0] != 'From' :\n",
    "        continue\n",
    "    email = words[1]\n",
    "    pieces = email.split('@')\n",
    "    host = pieces[1]\n",
    "    print('Host name:',host)"
   ]
  },
  {
   "cell_type": "markdown",
   "metadata": {},
   "source": [
    "### Excercise 8.4\n",
    "* Open the file romeo.txt and read it line by line. For each line, split the line into a list of words using the split() method. \n",
    "* The program should build a list of words. For each word on each line check to see if the word is already in the list and if not append it to the list. \n",
    "* When the program completes, sort and print the resulting words in alphabetical order."
   ]
  },
  {
   "cell_type": "code",
   "execution_count": null,
   "metadata": {},
   "outputs": [],
   "source": [
    "while True:\n",
    "    try:\n",
    "        fname = input('Enter file name: ')\n",
    "        fhand = open(fname)\n",
    "        break\n",
    "    except:\n",
    "        print('The following file does not exists: ',fname)\n",
    "        continue\n",
    "\n",
    "lst = list()\n",
    "for line in fhand:\n",
    "    line = line.rstrip()\n",
    "    words = line.split()\n",
    "    pos = 0\n",
    "    for i in words:\n",
    "        if not words[pos] in lst:\n",
    "            lst.append(words[pos])\n",
    "        pos = pos + 1\n",
    "lst.sort()\n",
    "print(lst)"
   ]
  },
  {
   "cell_type": "markdown",
   "metadata": {},
   "source": [
    "### Excercise 8.5\n",
    "* Open the file mbox-short.txt and read it line by line. \n",
    "* When you find a line that starts with 'From ' like the following line: 'From stephen.marquard@uct.ac.za Sat Jan  5 09:14:16 2008'\n",
    "* You will parse the From line using split() and print out the second word in the line (i.e. the entire address of the person who sent the message). "
   ]
  },
  {
   "cell_type": "code",
   "execution_count": null,
   "metadata": {},
   "outputs": [],
   "source": [
    "#  Easy way to open the required file:\n",
    "#fname = input(\"Enter file name: \")\n",
    "#if len(fname) < 1 : \n",
    "#    fname = \"mbox-short.txt\"\n",
    "#fhand = open(fname)\n",
    "\n",
    "while True:\n",
    "    try:\n",
    "        fname = input('Enter file name: ')\n",
    "        fhand = open(fname)\n",
    "        break\n",
    "    except:\n",
    "        print('The following file does not exists: ',fname)\n",
    "        continue\n",
    "\n",
    "count = 0\n",
    "for line in fhand:\n",
    "    line = line.rstrip()\n",
    "    if line.startswith('From') and not line.startswith('From:'):\n",
    "        words = line.split()\n",
    "        count = count + 1\n",
    "        print(words[1])\n",
    "\n",
    "print(\"There were\", count, \"lines in the file with From as the first word\")"
   ]
  },
  {
   "cell_type": "markdown",
   "metadata": {},
   "source": [
    "### Excercise 9.4\n",
    "* Write a program to read through the mbox-short.txt and figure out who has sent the greatest number of mail messages. \n",
    "* The program looks for 'From ' lines and takes the second word of those lines as the person who sent the mail. \n",
    "* The program creates a Python dictionary that maps the sender's mail address to a count of the number of times they appear in the file. \n",
    "* After the dictionary is produced, the program reads through the dictionary using a maximum loop to find the most prolific committer."
   ]
  },
  {
   "cell_type": "code",
   "execution_count": null,
   "metadata": {},
   "outputs": [],
   "source": [
    "fname = input(\"Enter file: \")\n",
    "if len(fname) < 1 : fname = \"mbox-short.txt\"\n",
    "fhand = open(fname)\n",
    "\n",
    "record = dict()\n",
    "for line in fhand :\n",
    "    line = line.rstrip()\n",
    "    if line.startswith('From') and not line.startswith('From:'):\n",
    "        words = line.split()\n",
    "        record[words[1]] = record.get(words[1], 0) + 1\n",
    "\n",
    "bigsender = None\n",
    "bigcount = None\n",
    "for sender,counts in record.items() :\n",
    "    if bigcount is None or counts > bigcount :       \n",
    "        bigsender = sender\n",
    "        bigcount = counts\n",
    "print(bigsender, bigcount)"
   ]
  },
  {
   "cell_type": "markdown",
   "metadata": {},
   "source": [
    "### Excercise 10.2\n",
    "* Write a program to read through the mbox-short.txt and figure out the distribution by hour of the day for each of the messages. You can pull the hour out from the 'From ' line by finding the time and then splitting the string a second time using a colon. 'From stephen.marquard@uct.ac.za Sat Jan  5 09:14:16 2008'\n",
    "* Once you have accumulated the counts for each hour, print out the counts, sorted by hour as shown below. "
   ]
  },
  {
   "cell_type": "code",
   "execution_count": null,
   "metadata": {},
   "outputs": [],
   "source": [
    "fname = input(\"Enter file:\")\n",
    "if len(fname) < 1 : fname = \"mbox.txt\"\n",
    "fhand = open(fname)\n",
    "\n",
    "counts = dict()\n",
    "for line in fhand:\n",
    "    line = line.rstrip()\n",
    "    if line.startswith('From') and not line.startswith('From:') :\n",
    "        hrs = line.split()        \n",
    "        #hrs = hrs[5][:2]\n",
    "        counts[hrs[5][:2]] = counts.get(hrs[5][:2], 0) + 1\n",
    "\n",
    "lst = list()\n",
    "lst = sorted([(key, val)for key, val in counts.items()])\n",
    "#lst = sorted([(val, key) for key, val in counts.items()], reverse=True)  # sorted base on the value from high to low \n",
    "for key, val in lst :\n",
    "    print(key, val)\n",
    "\n",
    "# Without list comprehension method:\n",
    "#lst = list()\n",
    "#newtuple = tuple()\n",
    "#for key, val in counts.items():\n",
    "#    newtuple = (key, val)\n",
    "#    lst.append(newtuple)\n",
    "#lst.sort()\n",
    "#for key, val in lst :\n",
    "#    print(key, val)"
   ]
  },
  {
   "cell_type": "code",
   "execution_count": null,
   "metadata": {},
   "outputs": [],
   "source": []
  },
  {
   "cell_type": "markdown",
   "metadata": {},
   "source": [
    "### Examples"
   ]
  },
  {
   "cell_type": "markdown",
   "metadata": {},
   "source": [
    "#### Prompt the user input numbers to construct a list and calculate the average of the list"
   ]
  },
  {
   "cell_type": "code",
   "execution_count": null,
   "metadata": {},
   "outputs": [],
   "source": [
    "numlist = list()\n",
    "while True:\n",
    "    inp = input('Enter a number: ')\n",
    "    if inp == 'done' : break\n",
    "    try:\n",
    "        value = float(inp)\n",
    "    except:\n",
    "        print('Error, please enter numeric input')\n",
    "        continue\n",
    "    numlist.append(value)\n",
    "print('Input: ',numlist)\n",
    "\n",
    "average = sum(numlist) / len(numlist)\n",
    "print('The average is: ', average)"
   ]
  },
  {
   "cell_type": "markdown",
   "metadata": {},
   "source": [
    "#### Count words"
   ]
  },
  {
   "cell_type": "code",
   "execution_count": null,
   "metadata": {},
   "outputs": [],
   "source": [
    "fname = input(\"Enter the file name: \")\n",
    "fhand = open(fname,'r')\n",
    "count = 0\n",
    "for line in fhand:\n",
    "    if not line.startswith('Subject:'):\n",
    "        continue\n",
    "    count = count + 1\n",
    "print('There were', count, 'subject lines in',fname)"
   ]
  },
  {
   "cell_type": "markdown",
   "metadata": {},
   "source": [
    "#### Sorted the dictionary based on key"
   ]
  },
  {
   "cell_type": "code",
   "execution_count": null,
   "metadata": {},
   "outputs": [],
   "source": [
    "di = {'a':10, 'b':1, 'c':22}\n",
    "for k, v in sorted(di.items()):\n",
    "    print(k, v)"
   ]
  },
  {
   "cell_type": "markdown",
   "metadata": {},
   "source": [
    "#### Sorted the dictionary based on values"
   ]
  },
  {
   "cell_type": "code",
   "execution_count": null,
   "metadata": {},
   "outputs": [],
   "source": [
    "di = {'a':10, 'b':1, 'c':22}\n",
    "lst = list()\n",
    "for k, v in di.items() :\n",
    "    lst.append((v,k))\n",
    "lst = sorted(lst, reverse= True) # sorted from high to low\n",
    "print(lst)"
   ]
  },
  {
   "cell_type": "markdown",
   "metadata": {},
   "source": [
    "#### Words count dictionary"
   ]
  },
  {
   "cell_type": "code",
   "execution_count": null,
   "metadata": {},
   "outputs": [],
   "source": [
    "fname = input('Enter the name of the files: ')\n",
    "if len(fname) < 1 : fname = \"words.txt\"\n",
    "fhand = open(fname)\n",
    "    # Made a Histogram of the words\n",
    "counts = dict()\n",
    "for line in fhand :\n",
    "    words = line.split()\n",
    "    for word in words :\n",
    "        counts[word] = counts.get(word,0) + 1\n",
    "    # make a new list of tuples in value-key order\n",
    "lst = list()\n",
    "for key, val in counts.items() :\n",
    "    newtup = (val, key)\n",
    "    lst.append(newtup)\n",
    "    # sorted the list based on the value and silice out the top 10\n",
    "lst = sorted(lst, reverse=True)\n",
    "for val, key in lst[:10] :\n",
    "    print(key, val)"
   ]
  },
  {
   "cell_type": "markdown",
   "metadata": {},
   "source": [
    "#### List Comprehension"
   ]
  },
  {
   "cell_type": "code",
   "execution_count": null,
   "metadata": {},
   "outputs": [],
   "source": [
    "di = {'a':10, 'b':1, 'c':22}\n",
    "lst = list()\n",
    "    # for key, val in di.items() :\n",
    "    #   newtup = (val, key)\n",
    "    #   lst.append(newtup)\n",
    "    #   lst = sorted(lst, reverse=True)\n",
    "lst = sorted([(val, key) for key, val in di.items()], reverse=True)"
   ]
  },
  {
   "cell_type": "markdown",
   "metadata": {},
   "source": [
    "#### Words count histogram"
   ]
  },
  {
   "cell_type": "code",
   "execution_count": null,
   "metadata": {},
   "outputs": [],
   "source": [
    "counts = dict()\n",
    "print('Enter a line of text:')\n",
    "line = input('')\n",
    "\n",
    "words = line.split()\n",
    "print('Words:',words)\n",
    "\n",
    "print('Counting...')\n",
    "for name in words :\n",
    "# .get Method\n",
    "    counts[name] =  counts.get(name,0) + 1\n",
    "\n",
    "# IF - ELSE Method: \n",
    "#    if name not in counts :\n",
    "#        counts[name] = 1\n",
    "#    else :\n",
    "#        counts[name] = counts[name] + 1\n",
    "\n",
    "print('Counts:',counts)"
   ]
  },
  {
   "cell_type": "markdown",
   "metadata": {},
   "source": [
    "#### Retreieved Key and Values in dictionary"
   ]
  },
  {
   "cell_type": "code",
   "execution_count": null,
   "metadata": {},
   "outputs": [],
   "source": [
    "scores = {'rico':1, 'liz':520, 'timo':100}\n",
    "for key,value in scores.items() :\n",
    "    print(key,value)"
   ]
  },
  {
   "cell_type": "markdown",
   "metadata": {},
   "source": [
    "#### Made a words count histogram and find the word aooeared the most often and its counts."
   ]
  },
  {
   "cell_type": "code",
   "execution_count": null,
   "metadata": {},
   "outputs": [],
   "source": [
    "fname = input('Enter the name of the files: ')\n",
    "fhand = open(fname)\n",
    "    # Made a Histogram of the words\n",
    "counts = dict()\n",
    "for line in fhand :\n",
    "    words = line.split()\n",
    "    for word in words :\n",
    "        counts[word] = counts.get(word,0) + 1\n",
    "    # Find the word appeared the most often\n",
    "bigword = None\n",
    "bigcount = None\n",
    "for word,count in counts.items() :\n",
    "    if bigword is None or count > bigcount :\n",
    "        bigword = word\n",
    "        bigcount = count\n",
    "print(bigword, bigcount)"
   ]
  }
 ],
 "metadata": {
  "language_info": {
   "codemirror_mode": {
    "name": "ipython",
    "version": 3
   },
   "file_extension": ".py",
   "mimetype": "text/x-python",
   "name": "python",
   "nbconvert_exporter": "python",
   "pygments_lexer": "ipython3",
   "version": 3
  },
  "orig_nbformat": 2
 },
 "nbformat": 4,
 "nbformat_minor": 2
}